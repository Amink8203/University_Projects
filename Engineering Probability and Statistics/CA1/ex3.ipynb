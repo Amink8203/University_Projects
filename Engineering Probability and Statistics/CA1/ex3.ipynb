{
 "cells": [
  {
   "cell_type": "code",
   "execution_count": 15,
   "id": "40215883-1b8b-49ca-a5aa-192598450cfc",
   "metadata": {},
   "outputs": [
    {
     "name": "stdout",
     "output_type": "stream",
     "text": [
      "Question1: 95.3786\n",
      "Question2: [71.9061,88.0939]\n",
      "Question3: 0.2977\n"
     ]
    }
   ],
   "source": [
    "import numpy as np\n",
    "from scipy.stats import norm\n",
    "\n",
    "mean = 80\n",
    "s_deviation = 12\n",
    "ten_percent = 0.9\n",
    "Q2_start = 0.25\n",
    "Q3_end = 0.75\n",
    "score_eighty = 80\n",
    "score_ninety = 90\n",
    "samples = np.arange(40,121,0.1)\n",
    "x_ax = np.arange(30,130,0.1)\n",
    "norm_probs = []\n",
    "norm_distro = norm(loc = mean,scale = s_deviation)\n",
    "norm_probs = norm_distro.pdf(x = samples)\n",
    "score_ten_percent = norm.ppf(ten_percent, loc = mean, scale = s_deviation)\n",
    "Q2 = norm.ppf(Q2_start, loc = mean, scale = s_deviation)\n",
    "Q3 = norm.ppf(Q3_end, loc = mean, scale = s_deviation)\n",
    "score_80 = norm.cdf(score_eighty, loc = mean, scale = s_deviation)\n",
    "score_90 = norm.cdf(score_ninety, loc = mean, scale = s_deviation)\n",
    "prob_80_to_90 = score_90 - score_80\n",
    "print(f\"Question1: {score_ten_percent:.4f}\")\n",
    "print(f\"Question2: [{Q2:.4f},{Q3:.4f}]\")\n",
    "print(f\"Question3: {prob_80_to_90:.4f}\")"
   ]
  }
 ],
 "metadata": {
  "kernelspec": {
   "display_name": "Python 3 (ipykernel)",
   "language": "python",
   "name": "python3"
  },
  "language_info": {
   "codemirror_mode": {
    "name": "ipython",
    "version": 3
   },
   "file_extension": ".py",
   "mimetype": "text/x-python",
   "name": "python",
   "nbconvert_exporter": "python",
   "pygments_lexer": "ipython3",
   "version": "3.11.4"
  }
 },
 "nbformat": 4,
 "nbformat_minor": 5
}
