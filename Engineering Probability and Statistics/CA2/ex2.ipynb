{
 "cells": [
  {
   "cell_type": "code",
   "execution_count": 23,
   "metadata": {},
   "outputs": [
    {
     "name": "stdout",
     "output_type": "stream",
     "text": [
      "k = 10 : 35.400000\n",
      "k = 100 : 29.760000\n",
      "k = 1000 : 29.568000\n",
      "k = 10000 : 29.316900\n"
     ]
    }
   ],
   "source": [
    "#part1_2\n",
    "import numpy as np\n",
    "from sympy import *\n",
    "x = 1\n",
    "def coupon_collector(n, k):\n",
    "    temp = k\n",
    "    experiment_num = 0\n",
    "\n",
    "    while(temp > 0):\n",
    "        coupons_collected = set()\n",
    "        tries = 0\n",
    "\n",
    "        while len(coupons_collected) < n:\n",
    "            coupon = np.random.randint(1, n + 1)  # Assuming coupons are numbered from 1 to n\n",
    "            coupons_collected.add(coupon)\n",
    "            tries += 1\n",
    "\n",
    "        experiment_num += tries\n",
    "        temp -= 1\n",
    "\n",
    "    average_nums = experiment_num / k\n",
    "    return average_nums\n",
    "\n",
    "n = 10\n",
    "first = coupon_collector(n,10)\n",
    "second = coupon_collector(n,100)\n",
    "third = coupon_collector(n,1000)\n",
    "forth = coupon_collector(n,10000)\n",
    "print(f\"k = 10 : {first:.6f}\")\n",
    "print(f\"k = 100 : {second:.6f}\")\n",
    "print(f\"k = 1000 : {third:.6f}\")\n",
    "print(f\"k = 10000 : {forth:.6f}\")"
   ]
  },
  {
   "cell_type": "code",
   "execution_count": 24,
   "metadata": {},
   "outputs": [
    {
     "name": "stdout",
     "output_type": "stream",
     "text": [
      "MGF of X1 = 1.0*exp(s)\n",
      "MGF of X2 = 0.9*exp(s)/(1 - 0.1*exp(s))\n",
      "MGF of X3 = 0.8*exp(s)/(1 - 0.2*exp(s))\n",
      "MGF of X4 = 0.7*exp(s)/(1 - 0.3*exp(s))\n",
      "MGF of X5 = 0.6*exp(s)/(1 - 0.4*exp(s))\n",
      "MGF of X6 = 0.5*exp(s)/(1 - 0.5*exp(s))\n",
      "MGF of X7 = 0.4*exp(s)/(1 - 0.6*exp(s))\n",
      "MGF of X8 = 0.3*exp(s)/(1 - 0.7*exp(s))\n",
      "MGF of X9 = 0.2*exp(s)/(1 - 0.8*exp(s))\n",
      "MGF of X10 = 0.1*exp(s)/(1 - 0.9*exp(s))\n",
      "MGF of X = 0.00036288*exp(10*s)/((1 - 0.9*exp(s))*(1 - 0.8*exp(s))*(1 - 0.7*exp(s))*(1 - 0.6*exp(s))*(1 - 0.5*exp(s))*(1 - 0.4*exp(s))*(1 - 0.3*exp(s))*(1 - 0.2*exp(s))*(1 - 0.1*exp(s)))\n",
      "The mean of X = 29.289683\n"
     ]
    }
   ],
   "source": [
    "#part3_4_5\n",
    "n = 10\n",
    "s = symbols('s')\n",
    "mgf_list = []\n",
    "for i in range(1, n + 1):\n",
    "    pi = (n - (i - 1)) / n\n",
    "    xi = (pi * exp(s)) / (1 - (1 - pi) * exp(s))\n",
    "    mgf_list.append(xi)\n",
    "x_mgf = 1\n",
    "for i in range(n):\n",
    "    x_mgf *= mgf_list[i]\n",
    "\n",
    "mgf_derivative = diff(x_mgf,s)\n",
    "x_mean = mgf_derivative.subs({s:0})\n",
    "for i in range(1 , n + 1):\n",
    "    print(f\"MGF of X{i} = {mgf_list[i - 1]}\")\n",
    "print(f\"MGF of X = {x_mgf}\")\n",
    "print(f\"The mean of X = {x_mean:.6f}\")\n",
    "\n"
   ]
  }
 ],
 "metadata": {
  "kernelspec": {
   "display_name": "Python 3",
   "language": "python",
   "name": "python3"
  },
  "language_info": {
   "codemirror_mode": {
    "name": "ipython",
    "version": 3
   },
   "file_extension": ".py",
   "mimetype": "text/x-python",
   "name": "python",
   "nbconvert_exporter": "python",
   "pygments_lexer": "ipython3",
   "version": "3.11.4"
  }
 },
 "nbformat": 4,
 "nbformat_minor": 2
}
